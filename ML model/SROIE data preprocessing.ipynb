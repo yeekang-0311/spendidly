{
 "cells": [
  {
   "cell_type": "markdown",
   "id": "settled-chancellor",
   "metadata": {},
   "source": [
    "# Convert SROIE receipt images to text"
   ]
  },
  {
   "cell_type": "code",
   "execution_count": 15,
   "id": "therapeutic-irrigation",
   "metadata": {},
   "outputs": [],
   "source": [
    "# convert images to text with OCR\n",
    "from PIL import Image\n",
    "import pytesseract\n",
    "pytesseract.pytesseract.tesseract_cmd = r'C:\\Users\\Admin\\AppData\\Local\\Programs\\Tesseract-OCR\\tesseract'"
   ]
  },
  {
   "cell_type": "code",
   "execution_count": 19,
   "id": "ignored-representative",
   "metadata": {},
   "outputs": [],
   "source": [
    "beforeProcessText = pytesseract.image_to_string(Image.open('1004-receipt.jpg'))"
   ]
  },
  {
   "cell_type": "code",
   "execution_count": 17,
   "id": "continued-brain",
   "metadata": {},
   "outputs": [],
   "source": [
    "# Basic image precprocessing for better accuracy OCR\n",
    "import cv2\n",
    "img = cv2.imread(\"1004-receipt.jpg\")\n",
    "img = cv2.medianBlur(img,5)\n",
    "img = cv2.cvtColor(img, cv2.COLOR_BGR2GRAY)\n",
    "img = cv2.adaptiveThreshold(img, 255, cv2.ADAPTIVE_THRESH_GAUSSIAN_C, cv2.THRESH_BINARY, 11, 2)\n",
    "\n",
    "# cv2.imshow('',img) \n",
    "# cv2.waitKey()\n",
    "text = pytesseract.image_to_string(img)"
   ]
  },
  {
   "cell_type": "code",
   "execution_count": 20,
   "id": "nervous-smooth",
   "metadata": {},
   "outputs": [
    {
     "data": {
      "text/plain": [
       "'bee BOWL TERIYAKI\\n. 610 GARFIELD AVE.\\nS UTH GATE, CA. 90280\\n\\nTEL: (882) g28-s9g9\\n\\nREG O&-18-2019 11:19 AM\\nManager1 MC #01 000141\\n\\nORDER# oOoOOoO141\\n\\n1 #1 CHKN PLATE $9.39\\n1 + AVOCADO $1.95\\n1 MD. DRINK $2.29\\n*KHE RE:\\n\\nane $1.40\\nTOTAL. $1IS.03\\nCASH $20. 00\\nCG ited\\n\\n'"
      ]
     },
     "execution_count": 20,
     "metadata": {},
     "output_type": "execute_result"
    }
   ],
   "source": [
    "beforeProcessText"
   ]
  },
  {
   "cell_type": "code",
   "execution_count": 18,
   "id": "latin-divide",
   "metadata": {},
   "outputs": [
    {
     "data": {
      "text/plain": [
       "'SOLOEN BOWL TERIYAKI\\n\\na 8010 GARFIELD AVE.\\n=\" SOUTH GATE, ’ca. G0280\\nAy FEL: ($82) 920-8989\\n\\n-{{ REG 05-18-2019 11:19AM\\ni Managert MC 804 ~ 90014)\\n\\n‘ORDER 000141\\n\\n1 81° CHKN-PLATE $9.39\\n\\n1 + AVOCADO’ $1.9\\n\\n1.MO. ORINK S00»\\n*KHERE\\n\\n'"
      ]
     },
     "execution_count": 18,
     "metadata": {},
     "output_type": "execute_result"
    }
   ],
   "source": [
    "text"
   ]
  },
  {
   "cell_type": "code",
   "execution_count": 31,
   "id": "convenient-synthesis",
   "metadata": {},
   "outputs": [
    {
     "data": {
      "text/html": [
       "<div>\n",
       "<style scoped>\n",
       "    .dataframe tbody tr th:only-of-type {\n",
       "        vertical-align: middle;\n",
       "    }\n",
       "\n",
       "    .dataframe tbody tr th {\n",
       "        vertical-align: top;\n",
       "    }\n",
       "\n",
       "    .dataframe thead th {\n",
       "        text-align: right;\n",
       "    }\n",
       "</style>\n",
       "<table border=\"1\" class=\"dataframe\">\n",
       "  <thead>\n",
       "    <tr style=\"text-align: right;\">\n",
       "      <th></th>\n",
       "      <th>name</th>\n",
       "      <th>text</th>\n",
       "    </tr>\n",
       "  </thead>\n",
       "  <tbody>\n",
       "    <tr>\n",
       "      <th>0</th>\n",
       "      <td>X00016469670</td>\n",
       "      <td>tan chay yee\\n\\n#22 COPY te\\nOXL MARKETING $01...</td>\n",
       "    </tr>\n",
       "    <tr>\n",
       "      <th>1</th>\n",
       "      <td>X00016469671</td>\n",
       "      <td>tan chay yee\\n\\nOX MARKETING SDN BO\\nROK WO: $...</td>\n",
       "    </tr>\n",
       "    <tr>\n",
       "      <th>2</th>\n",
       "      <td>X51005200931</td>\n",
       "      <td>MES TAA Pai to\\n\\ntr Se ee\\nTe ok wrt\\nty .\\nw...</td>\n",
       "    </tr>\n",
       "    <tr>\n",
       "      <th>3</th>\n",
       "      <td>X51005230605</td>\n",
       "      <td></td>\n",
       "    </tr>\n",
       "    <tr>\n",
       "      <th>4</th>\n",
       "      <td>X51005230616</td>\n",
       "      <td>Bose\\n499°\\n\\ncerbang Aaf Restaurants Son Ghd\\...</td>\n",
       "    </tr>\n",
       "  </tbody>\n",
       "</table>\n",
       "</div>"
      ],
      "text/plain": [
       "           name                                               text\n",
       "0  X00016469670  tan chay yee\\n\\n#22 COPY te\\nOXL MARKETING $01...\n",
       "1  X00016469671  tan chay yee\\n\\nOX MARKETING SDN BO\\nROK WO: $...\n",
       "2  X51005200931  MES TAA Pai to\\n\\ntr Se ee\\nTe ok wrt\\nty .\\nw...\n",
       "3  X51005230605                                                   \n",
       "4  X51005230616  Bose\\n499°\\n\\ncerbang Aaf Restaurants Son Ghd\\..."
      ]
     },
     "execution_count": 31,
     "metadata": {},
     "output_type": "execute_result"
    }
   ],
   "source": [
    "# Loop all images \n",
    "import os\n",
    "import pandas as pd\n",
    "from os import listdir\n",
    " \n",
    "# get the path/directory\n",
    "# folder_dir = \"C:/Users/Admin/Desktop/Degree Level 3 Sem 2/FYP/Project stuff/ML model/SROIE dataset/SROIE2019/train/img\"\n",
    "folder_dir = \"C:/Users/Admin/Desktop/Degree Level 3 Sem 2/FYP/Project stuff/ML model/SROIE dataset/SROIE2019/test/img\"\n",
    "df = pd.DataFrame()\n",
    "for files in os.listdir(folder_dir):\n",
    " \n",
    "    # check if the files ends with png\n",
    "    if (files.endswith(\".jpg\")):\n",
    "        img = cv2.imread(folder_dir + \"/\" + files)\n",
    "        img = cv2.medianBlur(img,5)\n",
    "        img = cv2.cvtColor(img, cv2.COLOR_BGR2GRAY)\n",
    "        img = cv2.adaptiveThreshold(img, 255, cv2.ADAPTIVE_THRESH_GAUSSIAN_C, cv2.THRESH_BINARY, 11, 2)\n",
    "        text = pytesseract.image_to_string(img)\n",
    "        df = df.append({'name':files, 'text':text}, ignore_index=True)\n",
    "        \n",
    "# Remove the.jpg file extension\n",
    "df['name'] = df['name'].apply(lambda x: x[:-4])\n",
    "# df.to_csv(r'SROIE_train.csv', index=False)\n",
    "df.to_csv(r'SROIE_test.csv', index=False)\n",
    "df.head()"
   ]
  },
  {
   "cell_type": "markdown",
   "id": "material-ratio",
   "metadata": {},
   "source": [
    "# Merge the datas with categorised data"
   ]
  },
  {
   "cell_type": "code",
   "execution_count": 40,
   "id": "atlantic-jonathan",
   "metadata": {},
   "outputs": [
    {
     "data": {
      "text/html": [
       "<div>\n",
       "<style scoped>\n",
       "    .dataframe tbody tr th:only-of-type {\n",
       "        vertical-align: middle;\n",
       "    }\n",
       "\n",
       "    .dataframe tbody tr th {\n",
       "        vertical-align: top;\n",
       "    }\n",
       "\n",
       "    .dataframe thead th {\n",
       "        text-align: right;\n",
       "    }\n",
       "</style>\n",
       "<table border=\"1\" class=\"dataframe\">\n",
       "  <thead>\n",
       "    <tr style=\"text-align: right;\">\n",
       "      <th></th>\n",
       "      <th>name</th>\n",
       "      <th>text</th>\n",
       "    </tr>\n",
       "  </thead>\n",
       "  <tbody>\n",
       "    <tr>\n",
       "      <th>0</th>\n",
       "      <td>X00016469612</td>\n",
       "      <td>tan woon yann\\n\\nROOK TAM (TAMAH OAYA)SON BNO ...</td>\n",
       "    </tr>\n",
       "    <tr>\n",
       "      <th>1</th>\n",
       "      <td>X00016469619</td>\n",
       "      <td>tan woon yann\\n\\nshee GAs $M\\nTP datas ERP 13,...</td>\n",
       "    </tr>\n",
       "    <tr>\n",
       "      <th>2</th>\n",
       "      <td>X00016469620</td>\n",
       "      <td>“tan woon yann\\n~\\n\\nAOT tghh-k\\ncaegae é\\n122...</td>\n",
       "    </tr>\n",
       "    <tr>\n",
       "      <th>3</th>\n",
       "      <td>X00016469622</td>\n",
       "      <td>tan woon yann\\n\\nYONGFATT ENTERPRISE\\nune tid:...</td>\n",
       "    </tr>\n",
       "    <tr>\n",
       "      <th>4</th>\n",
       "      <td>X00016469623</td>\n",
       "      <td>av\\n\\noat ¥\\n\\ntan woon yann --\\n\\nG.b.Y, Up S...</td>\n",
       "    </tr>\n",
       "  </tbody>\n",
       "</table>\n",
       "</div>"
      ],
      "text/plain": [
       "           name                                               text\n",
       "0  X00016469612  tan woon yann\\n\\nROOK TAM (TAMAH OAYA)SON BNO ...\n",
       "1  X00016469619  tan woon yann\\n\\nshee GAs $M\\nTP datas ERP 13,...\n",
       "2  X00016469620  “tan woon yann\\n~\\n\\nAOT tghh-k\\ncaegae é\\n122...\n",
       "3  X00016469622  tan woon yann\\n\\nYONGFATT ENTERPRISE\\nune tid:...\n",
       "4  X00016469623  av\\n\\noat ¥\\n\\ntan woon yann --\\n\\nG.b.Y, Up S..."
      ]
     },
     "execution_count": 40,
     "metadata": {},
     "output_type": "execute_result"
    }
   ],
   "source": [
    "df = pd.read_csv(\"SROIE_train.csv\")\n",
    "df.head()"
   ]
  },
  {
   "cell_type": "code",
   "execution_count": 41,
   "id": "outstanding-breeding",
   "metadata": {},
   "outputs": [
    {
     "data": {
      "text/html": [
       "<div>\n",
       "<style scoped>\n",
       "    .dataframe tbody tr th:only-of-type {\n",
       "        vertical-align: middle;\n",
       "    }\n",
       "\n",
       "    .dataframe tbody tr th {\n",
       "        vertical-align: top;\n",
       "    }\n",
       "\n",
       "    .dataframe thead th {\n",
       "        text-align: right;\n",
       "    }\n",
       "</style>\n",
       "<table border=\"1\" class=\"dataframe\">\n",
       "  <thead>\n",
       "    <tr style=\"text-align: right;\">\n",
       "      <th></th>\n",
       "      <th>name</th>\n",
       "      <th>category</th>\n",
       "    </tr>\n",
       "  </thead>\n",
       "  <tbody>\n",
       "    <tr>\n",
       "      <th>0</th>\n",
       "      <td>X00016469612</td>\n",
       "      <td>General</td>\n",
       "    </tr>\n",
       "    <tr>\n",
       "      <th>1</th>\n",
       "      <td>X00016469619</td>\n",
       "      <td>General</td>\n",
       "    </tr>\n",
       "    <tr>\n",
       "      <th>2</th>\n",
       "      <td>X00016469620</td>\n",
       "      <td>General</td>\n",
       "    </tr>\n",
       "    <tr>\n",
       "      <th>3</th>\n",
       "      <td>X00016469622</td>\n",
       "      <td>General</td>\n",
       "    </tr>\n",
       "    <tr>\n",
       "      <th>4</th>\n",
       "      <td>X00016469623</td>\n",
       "      <td>General</td>\n",
       "    </tr>\n",
       "  </tbody>\n",
       "</table>\n",
       "</div>"
      ],
      "text/plain": [
       "           name category\n",
       "0  X00016469612  General\n",
       "1  X00016469619  General\n",
       "2  X00016469620  General\n",
       "3  X00016469622  General\n",
       "4  X00016469623  General"
      ]
     },
     "execution_count": 41,
     "metadata": {},
     "output_type": "execute_result"
    }
   ],
   "source": [
    "df1 = pd.read_csv(\"categorised_train.csv\")\n",
    "df1.head()"
   ]
  },
  {
   "cell_type": "code",
   "execution_count": 44,
   "id": "lucky-moderator",
   "metadata": {},
   "outputs": [],
   "source": [
    "complete_train = pd.merge(df, df1, on=\"name\")\n",
    "complete_train.to_csv(r'complete_train.csv', index=False)"
   ]
  },
  {
   "cell_type": "code",
   "execution_count": 51,
   "id": "mechanical-schedule",
   "metadata": {},
   "outputs": [],
   "source": [
    "# Merge test dataset\n",
    "df = pd.read_csv(\"SROIE_test.csv\")\n",
    "df1 = pd.read_csv(\"categorised_test.csv\")\n",
    "df1['name'] = df1['name'].apply(lambda x: x[:-4])\n",
    "complete_test = pd.merge(df, df1, on=\"name\")\n",
    "complete_test.to_csv(r'complete_test.csv', index=False)"
   ]
  },
  {
   "cell_type": "code",
   "execution_count": 50,
   "id": "general-watson",
   "metadata": {},
   "outputs": [],
   "source": []
  },
  {
   "cell_type": "code",
   "execution_count": null,
   "id": "novel-approach",
   "metadata": {},
   "outputs": [],
   "source": []
  }
 ],
 "metadata": {
  "kernelspec": {
   "display_name": "Python 3",
   "language": "python",
   "name": "python3"
  },
  "language_info": {
   "codemirror_mode": {
    "name": "ipython",
    "version": 3
   },
   "file_extension": ".py",
   "mimetype": "text/x-python",
   "name": "python",
   "nbconvert_exporter": "python",
   "pygments_lexer": "ipython3",
   "version": "3.8.3"
  }
 },
 "nbformat": 4,
 "nbformat_minor": 5
}
